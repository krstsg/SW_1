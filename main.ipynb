{
 "cells": [
  {
   "cell_type": "code",
   "execution_count": 1,
   "metadata": {},
   "outputs": [],
   "source": [
    "# HTML session requesting\n",
    "from requests_html import HTMLSession\n",
    "# HTML parsing \n",
    "from bs4 import BeautifulSoup\n",
    "# XML validation\n",
    "from lxml import etree\n",
    "# Regex\n",
    "import re\n",
    "# Time\n",
    "import time\n",
    "# Date\n",
    "from dateutil.parser import parse\n",
    "\n",
    "URL = \"https://comfy.ua/\""
   ]
  },
  {
   "attachments": {},
   "cell_type": "markdown",
   "metadata": {},
   "source": [
    "# Utils"
   ]
  },
  {
   "cell_type": "code",
   "execution_count": 2,
   "metadata": {},
   "outputs": [],
   "source": [
    "def is_decimal(item):\n",
    "    if isinstance(item, str):\n",
    "        int_pattern = re.compile(\"^[0-9]*$\")\n",
    "        float_pattern = re.compile(\"^[0-9]*\\.[0-9]*$\")\n",
    "        if float_pattern.match(item) or int_pattern.match(item):\n",
    "            return True\n",
    "        else:\n",
    "            return False\n",
    "\n",
    "def is_date(string, fuzzy=False):\n",
    "    try: \n",
    "        parse(string, fuzzy=fuzzy)\n",
    "        return True\n",
    "\n",
    "    except ValueError:\n",
    "        return False\n",
    "\n",
    "def is_time_format(input):\n",
    "    try:\n",
    "        time.strptime(input, '%H:%M')\n",
    "        return True\n",
    "    except ValueError:\n",
    "        return False\n",
    "\n",
    "def base_type_def(data: str) -> str:\n",
    "    data = data.strip()\n",
    "    \n",
    "    if data.isnumeric():\n",
    "        return \"integer\"\n",
    "    elif is_decimal(data):\n",
    "        return \"float\"\n",
    "    elif data.lower() in ['true', 'false']:\n",
    "        return \"bool\"\n",
    "    elif is_time_format(data):\n",
    "        return \"time\"\n",
    "    elif is_date(data):\n",
    "        return \"date\"\n",
    "    elif data != \"\":\n",
    "        return \"string\"\n",
    "    else:\n",
    "        return \"None\""
   ]
  },
  {
   "cell_type": "code",
   "execution_count": 3,
   "metadata": {},
   "outputs": [],
   "source": [
    "def replace_by_dict(data: str, value_dict: dict) -> str:\n",
    "    res = data\n",
    "    for i in value_dict.keys():\n",
    "        res = res.replace(i, value_dict[i])\n",
    "    return res"
   ]
  },
  {
   "cell_type": "code",
   "execution_count": 4,
   "metadata": {},
   "outputs": [],
   "source": [
    "def write_to_file(string: str, path_name: str, encoding: str = 'UTF-8') -> None:\n",
    "    with open(path_name, 'w', encoding=encoding) as out:\n",
    "        out.write(string)"
   ]
  },
  {
   "cell_type": "code",
   "execution_count": 5,
   "metadata": {},
   "outputs": [],
   "source": [
    "def validate_xml(xml_path: str, xsd_path: str):\n",
    "    xmlschema_doc = etree.parse(xsd_path)\n",
    "    xmlschema = etree.XMLSchema(xmlschema_doc)\n",
    "    xml_doc = etree.parse(xml_path)\n",
    "    result = xmlschema.validate(xml_doc)\n",
    "    return result"
   ]
  },
  {
   "cell_type": "code",
   "execution_count": 6,
   "metadata": {},
   "outputs": [],
   "source": [
    "def tree_to_xmlstring(node: dict, version: str = '1.0', encoding: str = 'UTF-8') -> str:\n",
    "    if version not in ['1.0', '1.1']:\n",
    "        raise Exception(\"Specified version doesn't exist!\")\n",
    "    \n",
    "    if not encoding in [\n",
    "        \"ASCII\",\n",
    "        \"UTF-8\",\n",
    "        \"UTF-16\",\n",
    "        \"US-ASCII\",\n",
    "        \"ISO-8859-1\",\n",
    "    ]:\n",
    "        raise Exception(\"Specified encoding doesn't exist!\")\n",
    "\n",
    "    result = '<?xml version=\"{ver}\" encoding=\"{enc}\"?>\\n'.format(ver=version, enc=encoding)\n",
    "    return result + tree_to_xmlstring_inner(node)\n",
    "\n",
    "\n",
    "def tree_to_xmlstring_inner(node_cluster: dict, level: int = 0) -> str:\n",
    "    result = ''\n",
    "    for node in node_cluster:\n",
    "        if node[2] == \"\":\n",
    "            continue\n",
    "        result += ('  ' * level) + '<{name}'.format(name = node[0])\n",
    "        for attr in node[1].keys():\n",
    "            result += ' {attr_name}={attr_val}'.format(attr_name=attr, attr_val = '\"' + str(node[1][attr]) + '\"')\n",
    "\n",
    "        if node[2] == None:\n",
    "            result += '/>\\n'\n",
    "        elif type(node[2]) == list:\n",
    "            result += '>\\n' + tree_to_xmlstring_inner(node[2], level + 1) + ('  ' * level) + '</{name}>\\n'.format(name = node[0])\n",
    "        else:\n",
    "            result += '>{data}</{name}>\\n'.format(data = replace_by_dict(str(node[2]), {\n",
    "                '&':    '&amp;',\n",
    "                '<':    '&lt;',\n",
    "                '>':    '&gt;',\n",
    "                '\\'':   '&apos;',\n",
    "                '\"':    '&quot;'\n",
    "            }), name = node[0])\n",
    "\n",
    "    return result"
   ]
  },
  {
   "attachments": {},
   "cell_type": "markdown",
   "metadata": {},
   "source": [
    "# Processing"
   ]
  },
  {
   "cell_type": "code",
   "execution_count": 7,
   "metadata": {},
   "outputs": [],
   "source": [
    "session = HTMLSession()\n",
    "response = session.get(URL)\n",
    "soup = BeautifulSoup(response.text.encode('utf-8'), 'lxml')"
   ]
  },
  {
   "cell_type": "code",
   "execution_count": 8,
   "metadata": {},
   "outputs": [],
   "source": [
    "products = soup.find_all('div', attrs={'class':'products-list-item prc__item products-list-item--grid'})"
   ]
  },
  {
   "cell_type": "code",
   "execution_count": 9,
   "metadata": {},
   "outputs": [],
   "source": [
    "def add_located(prd, element: str, elem_class: str, needs_split: bool):\n",
    "    try:\n",
    "        if needs_split:\n",
    "            return prd.find(element, attrs={'class':elem_class}).text.strip().split(' ')\n",
    "        else:\n",
    "            return prd.find(element, attrs={'class':elem_class}).text.strip()\n",
    "    except:\n",
    "        return \"\""
   ]
  },
  {
   "cell_type": "code",
   "execution_count": 10,
   "metadata": {},
   "outputs": [],
   "source": [
    "product_tree = [\n",
    "    (\"products\", {}, [])\n",
    "]\n",
    "\n",
    "for product in products:\n",
    "    product_data = []\n",
    "    product_data.append((\"name\", {}, add_located(product, \"a\", \"products-list-item__name\", False)))\n",
    "    product_data.append((\"rating\", {}, add_located(product, \"div\", \"rating-box__active\", False)))\n",
    "    product_data.append((\"review_count\", {}, add_located(product, \"a\", \"products-list-item__reviews\", False)))\n",
    "    \n",
    "    # Price block\n",
    "    price_old = add_located(product, \"div\", \"products-list-item__actions-price-old\", True)\n",
    "    if price_old != \"\":\n",
    "        p_price_old = [re.findall(\"\\d+\", x) for x in price_old if x != '' or x != '\\n'][:2]\n",
    "        product_data.append((\"price_old\", {\n",
    "                \"currency\": '₴'\n",
    "            }, p_price_old[0][0] + '.' + p_price_old[1][0]))\n",
    "\n",
    "    price_new = add_located(product, \"div\", \"products-list-item__actions-price-current\", True)\n",
    "    if price_new != \"\":\n",
    "        p_price_new = [re.findall(\"\\d+\", x) for x in price_new if x != '' or x != '\\n'][:2]\n",
    "        product_data.append((\"price_new\", {\n",
    "                \"currency\": '₴'\n",
    "            }, p_price_new[0][0] + '.' + p_price_new[1][0]))\n",
    "\n",
    "    discount = add_located(product, \"span\", \"products-list-item__actions-price-discount\", False)\n",
    "    if discount != \"\":\n",
    "        product_data.append((\"discount\", {}, discount))\n",
    "\n",
    "    \n",
    "    product_tree[0][2].append((\"product\", {}, product_data))"
   ]
  },
  {
   "cell_type": "code",
   "execution_count": 11,
   "metadata": {},
   "outputs": [],
   "source": [
    "write_to_file(tree_to_xmlstring(product_tree), \"res.xml\")"
   ]
  },
  {
   "attachments": {},
   "cell_type": "markdown",
   "metadata": {},
   "source": [
    "# Validation"
   ]
  },
  {
   "cell_type": "code",
   "execution_count": 12,
   "metadata": {},
   "outputs": [
    {
     "data": {
      "text/plain": [
       "True"
      ]
     },
     "execution_count": 12,
     "metadata": {},
     "output_type": "execute_result"
    }
   ],
   "source": [
    "validate_xml(\"res.xml\", \"res.xsd\")"
   ]
  }
 ],
 "metadata": {
  "kernelspec": {
   "display_name": "Python 3",
   "language": "python",
   "name": "python3"
  },
  "language_info": {
   "codemirror_mode": {
    "name": "ipython",
    "version": 3
   },
   "file_extension": ".py",
   "mimetype": "text/x-python",
   "name": "python",
   "nbconvert_exporter": "python",
   "pygments_lexer": "ipython3",
   "version": "3.9.13"
  },
  "orig_nbformat": 4,
  "vscode": {
   "interpreter": {
    "hash": "dced6d19ca7d5e68fbec81575ed1d988021920b9aa5e810af87da6b2abc72fda"
   }
  }
 },
 "nbformat": 4,
 "nbformat_minor": 2
}
